{
 "cells": [
  {
   "cell_type": "code",
   "execution_count": 1,
   "metadata": {},
   "outputs": [],
   "source": [
    "import pandas as pd"
   ]
  },
  {
   "cell_type": "code",
   "execution_count": 2,
   "metadata": {},
   "outputs": [],
   "source": [
    "gender_df = pd.read_csv(\"./Resources/gender_submission.csv\")\n",
    "test_df = pd.read_csv(\"./Resources/test.csv\")\n",
    "train_df = pd.read_csv(\"./Resources/train.csv\")"
   ]
  },
  {
   "cell_type": "code",
   "execution_count": 3,
   "metadata": {},
   "outputs": [
    {
     "data": {
      "text/html": [
       "<div>\n",
       "<style scoped>\n",
       "    .dataframe tbody tr th:only-of-type {\n",
       "        vertical-align: middle;\n",
       "    }\n",
       "\n",
       "    .dataframe tbody tr th {\n",
       "        vertical-align: top;\n",
       "    }\n",
       "\n",
       "    .dataframe thead th {\n",
       "        text-align: right;\n",
       "    }\n",
       "</style>\n",
       "<table border=\"1\" class=\"dataframe\">\n",
       "  <thead>\n",
       "    <tr style=\"text-align: right;\">\n",
       "      <th></th>\n",
       "      <th>PassengerId</th>\n",
       "      <th>Survived</th>\n",
       "      <th>Pclass</th>\n",
       "      <th>Name</th>\n",
       "      <th>Sex</th>\n",
       "      <th>Age</th>\n",
       "      <th>SibSp</th>\n",
       "      <th>Parch</th>\n",
       "      <th>Ticket</th>\n",
       "      <th>Fare</th>\n",
       "      <th>Cabin</th>\n",
       "      <th>Embarked</th>\n",
       "    </tr>\n",
       "  </thead>\n",
       "  <tbody>\n",
       "    <tr>\n",
       "      <th>0</th>\n",
       "      <td>1</td>\n",
       "      <td>0</td>\n",
       "      <td>3</td>\n",
       "      <td>Braund, Mr. Owen Harris</td>\n",
       "      <td>male</td>\n",
       "      <td>22.0</td>\n",
       "      <td>1</td>\n",
       "      <td>0</td>\n",
       "      <td>A/5 21171</td>\n",
       "      <td>7.2500</td>\n",
       "      <td>NaN</td>\n",
       "      <td>S</td>\n",
       "    </tr>\n",
       "    <tr>\n",
       "      <th>1</th>\n",
       "      <td>2</td>\n",
       "      <td>1</td>\n",
       "      <td>1</td>\n",
       "      <td>Cumings, Mrs. John Bradley (Florence Briggs Th...</td>\n",
       "      <td>female</td>\n",
       "      <td>38.0</td>\n",
       "      <td>1</td>\n",
       "      <td>0</td>\n",
       "      <td>PC 17599</td>\n",
       "      <td>71.2833</td>\n",
       "      <td>C85</td>\n",
       "      <td>C</td>\n",
       "    </tr>\n",
       "    <tr>\n",
       "      <th>2</th>\n",
       "      <td>3</td>\n",
       "      <td>1</td>\n",
       "      <td>3</td>\n",
       "      <td>Heikkinen, Miss. Laina</td>\n",
       "      <td>female</td>\n",
       "      <td>26.0</td>\n",
       "      <td>0</td>\n",
       "      <td>0</td>\n",
       "      <td>STON/O2. 3101282</td>\n",
       "      <td>7.9250</td>\n",
       "      <td>NaN</td>\n",
       "      <td>S</td>\n",
       "    </tr>\n",
       "    <tr>\n",
       "      <th>3</th>\n",
       "      <td>4</td>\n",
       "      <td>1</td>\n",
       "      <td>1</td>\n",
       "      <td>Futrelle, Mrs. Jacques Heath (Lily May Peel)</td>\n",
       "      <td>female</td>\n",
       "      <td>35.0</td>\n",
       "      <td>1</td>\n",
       "      <td>0</td>\n",
       "      <td>113803</td>\n",
       "      <td>53.1000</td>\n",
       "      <td>C123</td>\n",
       "      <td>S</td>\n",
       "    </tr>\n",
       "    <tr>\n",
       "      <th>4</th>\n",
       "      <td>5</td>\n",
       "      <td>0</td>\n",
       "      <td>3</td>\n",
       "      <td>Allen, Mr. William Henry</td>\n",
       "      <td>male</td>\n",
       "      <td>35.0</td>\n",
       "      <td>0</td>\n",
       "      <td>0</td>\n",
       "      <td>373450</td>\n",
       "      <td>8.0500</td>\n",
       "      <td>NaN</td>\n",
       "      <td>S</td>\n",
       "    </tr>\n",
       "  </tbody>\n",
       "</table>\n",
       "</div>"
      ],
      "text/plain": [
       "   PassengerId  Survived  Pclass  \\\n",
       "0            1         0       3   \n",
       "1            2         1       1   \n",
       "2            3         1       3   \n",
       "3            4         1       1   \n",
       "4            5         0       3   \n",
       "\n",
       "                                                Name     Sex   Age  SibSp  \\\n",
       "0                            Braund, Mr. Owen Harris    male  22.0      1   \n",
       "1  Cumings, Mrs. John Bradley (Florence Briggs Th...  female  38.0      1   \n",
       "2                             Heikkinen, Miss. Laina  female  26.0      0   \n",
       "3       Futrelle, Mrs. Jacques Heath (Lily May Peel)  female  35.0      1   \n",
       "4                           Allen, Mr. William Henry    male  35.0      0   \n",
       "\n",
       "   Parch            Ticket     Fare Cabin Embarked  \n",
       "0      0         A/5 21171   7.2500   NaN        S  \n",
       "1      0          PC 17599  71.2833   C85        C  \n",
       "2      0  STON/O2. 3101282   7.9250   NaN        S  \n",
       "3      0            113803  53.1000  C123        S  \n",
       "4      0            373450   8.0500   NaN        S  "
      ]
     },
     "execution_count": 3,
     "metadata": {},
     "output_type": "execute_result"
    }
   ],
   "source": [
    "train_df.head()"
   ]
  },
  {
   "cell_type": "code",
   "execution_count": 4,
   "metadata": {},
   "outputs": [
    {
     "data": {
      "text/html": [
       "<div>\n",
       "<style scoped>\n",
       "    .dataframe tbody tr th:only-of-type {\n",
       "        vertical-align: middle;\n",
       "    }\n",
       "\n",
       "    .dataframe tbody tr th {\n",
       "        vertical-align: top;\n",
       "    }\n",
       "\n",
       "    .dataframe thead th {\n",
       "        text-align: right;\n",
       "    }\n",
       "</style>\n",
       "<table border=\"1\" class=\"dataframe\">\n",
       "  <thead>\n",
       "    <tr style=\"text-align: right;\">\n",
       "      <th></th>\n",
       "      <th>Survived</th>\n",
       "      <th>Age</th>\n",
       "      <th>Fare</th>\n",
       "    </tr>\n",
       "    <tr>\n",
       "      <th>Sex</th>\n",
       "      <th></th>\n",
       "      <th></th>\n",
       "      <th></th>\n",
       "    </tr>\n",
       "  </thead>\n",
       "  <tbody>\n",
       "    <tr>\n",
       "      <th>female</th>\n",
       "      <td>0.742038</td>\n",
       "      <td>27.915709</td>\n",
       "      <td>44.479818</td>\n",
       "    </tr>\n",
       "    <tr>\n",
       "      <th>male</th>\n",
       "      <td>0.188908</td>\n",
       "      <td>30.726645</td>\n",
       "      <td>25.523893</td>\n",
       "    </tr>\n",
       "  </tbody>\n",
       "</table>\n",
       "</div>"
      ],
      "text/plain": [
       "        Survived        Age       Fare\n",
       "Sex                                   \n",
       "female  0.742038  27.915709  44.479818\n",
       "male    0.188908  30.726645  25.523893"
      ]
     },
     "execution_count": 4,
     "metadata": {},
     "output_type": "execute_result"
    }
   ],
   "source": [
    "train_df[[\"Survived\", \"Sex\", \"Age\", \"Fare\"]].groupby(\"Sex\").mean()"
   ]
  },
  {
   "cell_type": "markdown",
   "metadata": {},
   "source": [
    "ETL on the Empress of Ireland"
   ]
  },
  {
   "cell_type": "code",
   "execution_count": 14,
   "metadata": {},
   "outputs": [],
   "source": [
    "ireland_df = pd.read_csv(\"./Resources/empress_of_ireland_passenger_list.csv\")"
   ]
  },
  {
   "cell_type": "code",
   "execution_count": 6,
   "metadata": {},
   "outputs": [
    {
     "data": {
      "text/plain": [
       "Survived    1469\n",
       "Pclass      1469\n",
       "Name        1469\n",
       "Sex         1468\n",
       "Age          809\n",
       "dtype: int64"
      ]
     },
     "execution_count": 6,
     "metadata": {},
     "output_type": "execute_result"
    }
   ],
   "source": [
    "# This Dataset was made by hand so its bound to have some missing or incorrect data in it\n",
    "# Since I made this dataset with this project in mind, there isn't a lot of ETL to be done on it (other than when I was typing it up)\n",
    "\n",
    "ireland_df.count()\n",
    "\n",
    "# The counts appear to be little off"
   ]
  },
  {
   "cell_type": "code",
   "execution_count": 7,
   "metadata": {},
   "outputs": [
    {
     "data": {
      "text/plain": [
       "Index(['Survived', 'Pclass', 'Name', 'Sex', 'Age'], dtype='object')"
      ]
     },
     "execution_count": 7,
     "metadata": {},
     "output_type": "execute_result"
    }
   ],
   "source": [
    "ireland_df.columns"
   ]
  },
  {
   "cell_type": "code",
   "execution_count": 8,
   "metadata": {},
   "outputs": [
    {
     "name": "stdout",
     "output_type": "stream",
     "text": [
      "Unique values for 'Survived' (this should be 1,0): [1 0]\n",
      "Unique values for 'Pclass' (this should be 0,1,2,3): [0 1 2 3]\n",
      "Unique values for 'Sex' (this should be male/female/nan): ['male' 'female' nan]\n"
     ]
    }
   ],
   "source": [
    "# I want to check that all the categories are correct\n",
    "survived_unique = ireland_df[\"Survived\"].unique()\n",
    "pclass_unique = ireland_df[\"Pclass\"].unique()\n",
    "sex_unique = ireland_df[\"Sex\"].unique()\n",
    "\n",
    "print(f\"Unique values for 'Survived' (this should be 1,0): {survived_unique}\")\n",
    "print(f\"Unique values for 'Pclass' (this should be 0,1,2,3): {pclass_unique}\")\n",
    "print(f\"Unique values for 'Sex' (this should be male/female/nan): {sex_unique}\")\n",
    "\n",
    "# Looks like they are"
   ]
  },
  {
   "cell_type": "code",
   "execution_count": 15,
   "metadata": {},
   "outputs": [
    {
     "data": {
      "text/html": [
       "<div>\n",
       "<style scoped>\n",
       "    .dataframe tbody tr th:only-of-type {\n",
       "        vertical-align: middle;\n",
       "    }\n",
       "\n",
       "    .dataframe tbody tr th {\n",
       "        vertical-align: top;\n",
       "    }\n",
       "\n",
       "    .dataframe thead th {\n",
       "        text-align: right;\n",
       "    }\n",
       "</style>\n",
       "<table border=\"1\" class=\"dataframe\">\n",
       "  <thead>\n",
       "    <tr style=\"text-align: right;\">\n",
       "      <th></th>\n",
       "      <th>Survived</th>\n",
       "      <th>Pclass</th>\n",
       "      <th>Name</th>\n",
       "      <th>Sex</th>\n",
       "      <th>Age</th>\n",
       "    </tr>\n",
       "  </thead>\n",
       "  <tbody>\n",
       "    <tr>\n",
       "      <th>0</th>\n",
       "      <td>1</td>\n",
       "      <td>0</td>\n",
       "      <td>Kendall, Henry George</td>\n",
       "      <td>male</td>\n",
       "      <td>NaN</td>\n",
       "    </tr>\n",
       "    <tr>\n",
       "      <th>1</th>\n",
       "      <td>0</td>\n",
       "      <td>0</td>\n",
       "      <td>Steede, Mansfield Richard</td>\n",
       "      <td>male</td>\n",
       "      <td>NaN</td>\n",
       "    </tr>\n",
       "    <tr>\n",
       "      <th>2</th>\n",
       "      <td>1</td>\n",
       "      <td>0</td>\n",
       "      <td>Jones, Edward John</td>\n",
       "      <td>male</td>\n",
       "      <td>NaN</td>\n",
       "    </tr>\n",
       "    <tr>\n",
       "      <th>3</th>\n",
       "      <td>0</td>\n",
       "      <td>0</td>\n",
       "      <td>Williams, Roger</td>\n",
       "      <td>male</td>\n",
       "      <td>NaN</td>\n",
       "    </tr>\n",
       "    <tr>\n",
       "      <th>4</th>\n",
       "      <td>1</td>\n",
       "      <td>0</td>\n",
       "      <td>File, Osmond</td>\n",
       "      <td>male</td>\n",
       "      <td>NaN</td>\n",
       "    </tr>\n",
       "  </tbody>\n",
       "</table>\n",
       "</div>"
      ],
      "text/plain": [
       "   Survived  Pclass                       Name   Sex  Age\n",
       "0         1       0      Kendall, Henry George  male  NaN\n",
       "1         0       0  Steede, Mansfield Richard  male  NaN\n",
       "2         1       0         Jones, Edward John  male  NaN\n",
       "3         0       0            Williams, Roger  male  NaN\n",
       "4         1       0               File, Osmond  male  NaN"
      ]
     },
     "execution_count": 15,
     "metadata": {},
     "output_type": "execute_result"
    }
   ],
   "source": [
    "ireland_df.head()"
   ]
  },
  {
   "cell_type": "code",
   "execution_count": 19,
   "metadata": {},
   "outputs": [
    {
     "data": {
      "text/plain": [
       "Survived    417\n",
       "Pclass      417\n",
       "Name        417\n",
       "Sex         417\n",
       "Age           0\n",
       "dtype: int64"
      ]
     },
     "execution_count": 19,
     "metadata": {},
     "output_type": "execute_result"
    }
   ],
   "source": [
    "# The expected numbers are taken from wikipedia, I've gone over the passenger and crew list that I had and couldn't find anything missing\n",
    "# so either Wikipedia or the list I was looking at was wrong\n",
    "\n",
    "ireland_df.loc[ireland_df[\"Pclass\"] == 0].count()\n",
    "#Missing 3 crew members (expected 420)"
   ]
  },
  {
   "cell_type": "code",
   "execution_count": 20,
   "metadata": {},
   "outputs": [
    {
     "data": {
      "text/plain": [
       "Survived    88\n",
       "Pclass      88\n",
       "Name        88\n",
       "Sex         88\n",
       "Age         87\n",
       "dtype: int64"
      ]
     },
     "execution_count": 20,
     "metadata": {},
     "output_type": "execute_result"
    }
   ],
   "source": [
    "ireland_df.loc[ireland_df[\"Pclass\"] == 1].count()\n",
    "# I have 1 extra 1st class passenger (expected 87)"
   ]
  },
  {
   "cell_type": "code",
   "execution_count": 21,
   "metadata": {},
   "outputs": [
    {
     "data": {
      "text/plain": [
       "Survived    252\n",
       "Pclass      252\n",
       "Name        252\n",
       "Sex         252\n",
       "Age         234\n",
       "dtype: int64"
      ]
     },
     "execution_count": 21,
     "metadata": {},
     "output_type": "execute_result"
    }
   ],
   "source": [
    "ireland_df.loc[ireland_df[\"Pclass\"] == 2].count()\n",
    "# Missing 1 2nd class passenger (expected 253)"
   ]
  },
  {
   "cell_type": "code",
   "execution_count": 22,
   "metadata": {},
   "outputs": [
    {
     "data": {
      "text/plain": [
       "Survived    712\n",
       "Pclass      712\n",
       "Name        712\n",
       "Sex         711\n",
       "Age         488\n",
       "dtype: int64"
      ]
     },
     "execution_count": 22,
     "metadata": {},
     "output_type": "execute_result"
    }
   ],
   "source": [
    "# Third class passengers I haven't double checked yet, its a lot of data to go through by hand, and I think this is close enough\n",
    "\n",
    "ireland_df.loc[ireland_df[\"Pclass\"] == 3].count()\n",
    "# Missing 5 3rd class pasengers (expected 717)"
   ]
  },
  {
   "cell_type": "code",
   "execution_count": 23,
   "metadata": {},
   "outputs": [
    {
     "data": {
      "text/html": [
       "<div>\n",
       "<style scoped>\n",
       "    .dataframe tbody tr th:only-of-type {\n",
       "        vertical-align: middle;\n",
       "    }\n",
       "\n",
       "    .dataframe tbody tr th {\n",
       "        vertical-align: top;\n",
       "    }\n",
       "\n",
       "    .dataframe thead th {\n",
       "        text-align: right;\n",
       "    }\n",
       "</style>\n",
       "<table border=\"1\" class=\"dataframe\">\n",
       "  <thead>\n",
       "    <tr style=\"text-align: right;\">\n",
       "      <th></th>\n",
       "      <th>Survived</th>\n",
       "      <th>Age</th>\n",
       "    </tr>\n",
       "    <tr>\n",
       "      <th>Pclass</th>\n",
       "      <th></th>\n",
       "      <th></th>\n",
       "    </tr>\n",
       "  </thead>\n",
       "  <tbody>\n",
       "    <tr>\n",
       "      <th>0</th>\n",
       "      <td>0.558753</td>\n",
       "      <td>NaN</td>\n",
       "    </tr>\n",
       "    <tr>\n",
       "      <th>1</th>\n",
       "      <td>0.375000</td>\n",
       "      <td>39.080460</td>\n",
       "    </tr>\n",
       "    <tr>\n",
       "      <th>2</th>\n",
       "      <td>0.194444</td>\n",
       "      <td>30.924786</td>\n",
       "    </tr>\n",
       "    <tr>\n",
       "      <th>3</th>\n",
       "      <td>0.185393</td>\n",
       "      <td>29.055266</td>\n",
       "    </tr>\n",
       "  </tbody>\n",
       "</table>\n",
       "</div>"
      ],
      "text/plain": [
       "        Survived        Age\n",
       "Pclass                     \n",
       "0       0.558753        NaN\n",
       "1       0.375000  39.080460\n",
       "2       0.194444  30.924786\n",
       "3       0.185393  29.055266"
      ]
     },
     "execution_count": 23,
     "metadata": {},
     "output_type": "execute_result"
    }
   ],
   "source": [
    "ireland_df.groupby([\"Pclass\"]).mean()"
   ]
  },
  {
   "cell_type": "code",
   "execution_count": 31,
   "metadata": {},
   "outputs": [
    {
     "data": {
      "text/plain": [
       "Pclass\n",
       "0          NaN\n",
       "1    35.500000\n",
       "2    31.156250\n",
       "3    32.440367\n",
       "Name: Age, dtype: float64"
      ]
     },
     "execution_count": 31,
     "metadata": {},
     "output_type": "execute_result"
    }
   ],
   "source": [
    "# Average Age of the survivors\n",
    "\n",
    "ireland_df.loc[ireland_df[\"Survived\"] == 1].groupby(\"Pclass\").mean()[\"Age\"]"
   ]
  },
  {
   "cell_type": "code",
   "execution_count": 32,
   "metadata": {},
   "outputs": [
    {
     "data": {
      "text/plain": [
       "Pclass\n",
       "0          NaN\n",
       "1    41.163636\n",
       "2    30.865054\n",
       "3    28.081715\n",
       "Name: Age, dtype: float64"
      ]
     },
     "execution_count": 32,
     "metadata": {},
     "output_type": "execute_result"
    }
   ],
   "source": [
    "# Average age of those who died\n",
    "\n",
    "ireland_df.loc[ireland_df[\"Survived\"] == 0].groupby(\"Pclass\").mean()[\"Age\"]"
   ]
  },
  {
   "cell_type": "code",
   "execution_count": 26,
   "metadata": {},
   "outputs": [
    {
     "data": {
      "text/plain": [
       "Survived      int64\n",
       "Pclass        int64\n",
       "Name         object\n",
       "Sex          object\n",
       "Age         float64\n",
       "dtype: object"
      ]
     },
     "execution_count": 26,
     "metadata": {},
     "output_type": "execute_result"
    }
   ],
   "source": [
    "ireland_df.dtypes\n"
   ]
  },
  {
   "cell_type": "markdown",
   "metadata": {},
   "source": [
    "Now for ETL on the estonia passenger list"
   ]
  },
  {
   "cell_type": "code",
   "execution_count": 44,
   "metadata": {},
   "outputs": [
    {
     "data": {
      "text/html": [
       "<div>\n",
       "<style scoped>\n",
       "    .dataframe tbody tr th:only-of-type {\n",
       "        vertical-align: middle;\n",
       "    }\n",
       "\n",
       "    .dataframe tbody tr th {\n",
       "        vertical-align: top;\n",
       "    }\n",
       "\n",
       "    .dataframe thead th {\n",
       "        text-align: right;\n",
       "    }\n",
       "</style>\n",
       "<table border=\"1\" class=\"dataframe\">\n",
       "  <thead>\n",
       "    <tr style=\"text-align: right;\">\n",
       "      <th></th>\n",
       "      <th>PassengerId</th>\n",
       "      <th>Country</th>\n",
       "      <th>Firstname</th>\n",
       "      <th>Lastname</th>\n",
       "      <th>Sex</th>\n",
       "      <th>Age</th>\n",
       "      <th>Category</th>\n",
       "      <th>Survived</th>\n",
       "    </tr>\n",
       "  </thead>\n",
       "  <tbody>\n",
       "    <tr>\n",
       "      <th>0</th>\n",
       "      <td>1</td>\n",
       "      <td>Sweden</td>\n",
       "      <td>ARVID KALLE</td>\n",
       "      <td>AADLI</td>\n",
       "      <td>M</td>\n",
       "      <td>62</td>\n",
       "      <td>P</td>\n",
       "      <td>0</td>\n",
       "    </tr>\n",
       "    <tr>\n",
       "      <th>1</th>\n",
       "      <td>2</td>\n",
       "      <td>Estonia</td>\n",
       "      <td>LEA</td>\n",
       "      <td>AALISTE</td>\n",
       "      <td>F</td>\n",
       "      <td>22</td>\n",
       "      <td>C</td>\n",
       "      <td>0</td>\n",
       "    </tr>\n",
       "    <tr>\n",
       "      <th>2</th>\n",
       "      <td>3</td>\n",
       "      <td>Estonia</td>\n",
       "      <td>AIRI</td>\n",
       "      <td>AAVASTE</td>\n",
       "      <td>F</td>\n",
       "      <td>21</td>\n",
       "      <td>C</td>\n",
       "      <td>0</td>\n",
       "    </tr>\n",
       "    <tr>\n",
       "      <th>3</th>\n",
       "      <td>4</td>\n",
       "      <td>Sweden</td>\n",
       "      <td>JURI</td>\n",
       "      <td>AAVIK</td>\n",
       "      <td>M</td>\n",
       "      <td>53</td>\n",
       "      <td>C</td>\n",
       "      <td>0</td>\n",
       "    </tr>\n",
       "    <tr>\n",
       "      <th>4</th>\n",
       "      <td>5</td>\n",
       "      <td>Sweden</td>\n",
       "      <td>BRITTA ELISABET</td>\n",
       "      <td>AHLSTROM</td>\n",
       "      <td>F</td>\n",
       "      <td>55</td>\n",
       "      <td>P</td>\n",
       "      <td>0</td>\n",
       "    </tr>\n",
       "  </tbody>\n",
       "</table>\n",
       "</div>"
      ],
      "text/plain": [
       "   PassengerId  Country        Firstname  Lastname Sex  Age Category  Survived\n",
       "0            1   Sweden      ARVID KALLE     AADLI   M   62        P         0\n",
       "1            2  Estonia              LEA   AALISTE   F   22        C         0\n",
       "2            3  Estonia             AIRI   AAVASTE   F   21        C         0\n",
       "3            4   Sweden             JURI     AAVIK   M   53        C         0\n",
       "4            5   Sweden  BRITTA ELISABET  AHLSTROM   F   55        P         0"
      ]
     },
     "execution_count": 44,
     "metadata": {},
     "output_type": "execute_result"
    }
   ],
   "source": [
    "estonia_df = pd.read_csv(\"./Resources/estonia-passenger-list.csv\")\n",
    "estonia_df.head()"
   ]
  },
  {
   "cell_type": "code",
   "execution_count": 63,
   "metadata": {},
   "outputs": [
    {
     "data": {
      "text/html": [
       "<div>\n",
       "<style scoped>\n",
       "    .dataframe tbody tr th:only-of-type {\n",
       "        vertical-align: middle;\n",
       "    }\n",
       "\n",
       "    .dataframe tbody tr th {\n",
       "        vertical-align: top;\n",
       "    }\n",
       "\n",
       "    .dataframe thead th {\n",
       "        text-align: right;\n",
       "    }\n",
       "</style>\n",
       "<table border=\"1\" class=\"dataframe\">\n",
       "  <thead>\n",
       "    <tr style=\"text-align: right;\">\n",
       "      <th></th>\n",
       "      <th>PassengerId</th>\n",
       "      <th>Country</th>\n",
       "      <th>Firstname</th>\n",
       "      <th>Lastname</th>\n",
       "      <th>Sex</th>\n",
       "      <th>Age</th>\n",
       "      <th>Pclass</th>\n",
       "      <th>Survived</th>\n",
       "      <th>Name</th>\n",
       "    </tr>\n",
       "  </thead>\n",
       "  <tbody>\n",
       "    <tr>\n",
       "      <th>0</th>\n",
       "      <td>1</td>\n",
       "      <td>Sweden</td>\n",
       "      <td>ARVID KALLE</td>\n",
       "      <td>AADLI</td>\n",
       "      <td>male</td>\n",
       "      <td>62</td>\n",
       "      <td>1</td>\n",
       "      <td>0</td>\n",
       "      <td>Aadli, Arvid Kalle</td>\n",
       "    </tr>\n",
       "    <tr>\n",
       "      <th>1</th>\n",
       "      <td>2</td>\n",
       "      <td>Estonia</td>\n",
       "      <td>LEA</td>\n",
       "      <td>AALISTE</td>\n",
       "      <td>female</td>\n",
       "      <td>22</td>\n",
       "      <td>0</td>\n",
       "      <td>0</td>\n",
       "      <td>Aaliste, Lea</td>\n",
       "    </tr>\n",
       "    <tr>\n",
       "      <th>2</th>\n",
       "      <td>3</td>\n",
       "      <td>Estonia</td>\n",
       "      <td>AIRI</td>\n",
       "      <td>AAVASTE</td>\n",
       "      <td>female</td>\n",
       "      <td>21</td>\n",
       "      <td>0</td>\n",
       "      <td>0</td>\n",
       "      <td>Aavaste, Airi</td>\n",
       "    </tr>\n",
       "    <tr>\n",
       "      <th>3</th>\n",
       "      <td>4</td>\n",
       "      <td>Sweden</td>\n",
       "      <td>JURI</td>\n",
       "      <td>AAVIK</td>\n",
       "      <td>male</td>\n",
       "      <td>53</td>\n",
       "      <td>0</td>\n",
       "      <td>0</td>\n",
       "      <td>Aavik, Juri</td>\n",
       "    </tr>\n",
       "    <tr>\n",
       "      <th>4</th>\n",
       "      <td>5</td>\n",
       "      <td>Sweden</td>\n",
       "      <td>BRITTA ELISABET</td>\n",
       "      <td>AHLSTROM</td>\n",
       "      <td>female</td>\n",
       "      <td>55</td>\n",
       "      <td>1</td>\n",
       "      <td>0</td>\n",
       "      <td>Ahlstrom, Britta Elisabet</td>\n",
       "    </tr>\n",
       "  </tbody>\n",
       "</table>\n",
       "</div>"
      ],
      "text/plain": [
       "   PassengerId  Country        Firstname  Lastname     Sex  Age  Pclass  \\\n",
       "0            1   Sweden      ARVID KALLE     AADLI    male   62       1   \n",
       "1            2  Estonia              LEA   AALISTE  female   22       0   \n",
       "2            3  Estonia             AIRI   AAVASTE  female   21       0   \n",
       "3            4   Sweden             JURI     AAVIK    male   53       0   \n",
       "4            5   Sweden  BRITTA ELISABET  AHLSTROM  female   55       1   \n",
       "\n",
       "   Survived                       Name  \n",
       "0         0         Aadli, Arvid Kalle  \n",
       "1         0               Aaliste, Lea  \n",
       "2         0              Aavaste, Airi  \n",
       "3         0                Aavik, Juri  \n",
       "4         0  Ahlstrom, Britta Elisabet  "
      ]
     },
     "execution_count": 63,
     "metadata": {},
     "output_type": "execute_result"
    }
   ],
   "source": [
    "# Format the names like they are in the Titanic dataset (I don't think we're going to add Mr. or Mrs. like they are in the Titanic and Empress of Ireland)\n",
    "estonia_df[\"Name\"] = estonia_df[\"Lastname\"].str.title() + ', ' + estonia_df[\"Firstname\"].str.title()\n",
    "\n",
    "# Change how gender is displayed\n",
    "estonia_df.loc[estonia_df[\"Sex\"] == \"M\", \"Sex\"] = \"male\"\n",
    "estonia_df.loc[estonia_df[\"Sex\"] == \"F\", \"Sex\"] = \"female\"\n",
    "\n",
    "# Change the column called Category to Pclass that only contains 1 (for passenger) and 0 (for crew) to match the Empress of Ireland dataset\n",
    "\n",
    "estonia_df.rename(columns = {\"Category\":\"Pclass\"}, inplace=True)\n",
    "\n",
    "estonia_df.loc[estonia_df[\"Pclass\"] == \"P\", \"Pclass\"] = 1\n",
    "estonia_df.loc[estonia_df[\"Pclass\"] == \"C\", \"Pclass\"] = 0\n",
    "\n",
    "estonia_df = estonia_df.astype({\"Pclass\": int})\n",
    "\n",
    "estonia_df.head()"
   ]
  },
  {
   "cell_type": "code",
   "execution_count": 71,
   "metadata": {},
   "outputs": [
    {
     "data": {
      "text/html": [
       "<div>\n",
       "<style scoped>\n",
       "    .dataframe tbody tr th:only-of-type {\n",
       "        vertical-align: middle;\n",
       "    }\n",
       "\n",
       "    .dataframe tbody tr th {\n",
       "        vertical-align: top;\n",
       "    }\n",
       "\n",
       "    .dataframe thead th {\n",
       "        text-align: right;\n",
       "    }\n",
       "</style>\n",
       "<table border=\"1\" class=\"dataframe\">\n",
       "  <thead>\n",
       "    <tr style=\"text-align: right;\">\n",
       "      <th></th>\n",
       "      <th>Survived</th>\n",
       "      <th>Pclass</th>\n",
       "      <th>Name</th>\n",
       "      <th>Sex</th>\n",
       "      <th>Age</th>\n",
       "    </tr>\n",
       "  </thead>\n",
       "  <tbody>\n",
       "    <tr>\n",
       "      <th>0</th>\n",
       "      <td>0</td>\n",
       "      <td>1</td>\n",
       "      <td>Aadli, Arvid Kalle</td>\n",
       "      <td>male</td>\n",
       "      <td>62</td>\n",
       "    </tr>\n",
       "    <tr>\n",
       "      <th>1</th>\n",
       "      <td>0</td>\n",
       "      <td>0</td>\n",
       "      <td>Aaliste, Lea</td>\n",
       "      <td>female</td>\n",
       "      <td>22</td>\n",
       "    </tr>\n",
       "    <tr>\n",
       "      <th>2</th>\n",
       "      <td>0</td>\n",
       "      <td>0</td>\n",
       "      <td>Aavaste, Airi</td>\n",
       "      <td>female</td>\n",
       "      <td>21</td>\n",
       "    </tr>\n",
       "    <tr>\n",
       "      <th>3</th>\n",
       "      <td>0</td>\n",
       "      <td>0</td>\n",
       "      <td>Aavik, Juri</td>\n",
       "      <td>male</td>\n",
       "      <td>53</td>\n",
       "    </tr>\n",
       "    <tr>\n",
       "      <th>4</th>\n",
       "      <td>0</td>\n",
       "      <td>1</td>\n",
       "      <td>Ahlstrom, Britta Elisabet</td>\n",
       "      <td>female</td>\n",
       "      <td>55</td>\n",
       "    </tr>\n",
       "  </tbody>\n",
       "</table>\n",
       "</div>"
      ],
      "text/plain": [
       "   Survived  Pclass                       Name     Sex  Age\n",
       "0         0       1         Aadli, Arvid Kalle    male   62\n",
       "1         0       0               Aaliste, Lea  female   22\n",
       "2         0       0              Aavaste, Airi  female   21\n",
       "3         0       0                Aavik, Juri    male   53\n",
       "4         0       1  Ahlstrom, Britta Elisabet  female   55"
      ]
     },
     "execution_count": 71,
     "metadata": {},
     "output_type": "execute_result"
    }
   ],
   "source": [
    "new_estonia_df = estonia_df[[\"Survived\", \"Pclass\", \"Name\", \"Sex\", \"Age\"]]\n",
    "new_estonia_df.head()"
   ]
  },
  {
   "cell_type": "code",
   "execution_count": 72,
   "metadata": {},
   "outputs": [
    {
     "data": {
      "text/plain": [
       "Survived     int64\n",
       "Pclass       int64\n",
       "Name        object\n",
       "Sex         object\n",
       "Age          int64\n",
       "dtype: object"
      ]
     },
     "execution_count": 72,
     "metadata": {},
     "output_type": "execute_result"
    }
   ],
   "source": [
    "new_estonia_df.dtypes"
   ]
  },
  {
   "cell_type": "code",
   "execution_count": 75,
   "metadata": {},
   "outputs": [
    {
     "data": {
      "text/plain": [
       "array([0, 1])"
      ]
     },
     "execution_count": 75,
     "metadata": {},
     "output_type": "execute_result"
    }
   ],
   "source": [
    "new_estonia_df[\"Survived\"].unique()"
   ]
  },
  {
   "cell_type": "code",
   "execution_count": 56,
   "metadata": {},
   "outputs": [],
   "source": [
    "# Now save the cleaned dataframe\n",
    "\n",
    "new_estonia_df.to_csv(\"./Resources/estonia-passenger-list-cleaned.csv\", index=False)"
   ]
  },
  {
   "cell_type": "markdown",
   "metadata": {},
   "source": [
    "Machhine Learning"
   ]
  },
  {
   "cell_type": "code",
   "execution_count": 1,
   "metadata": {},
   "outputs": [],
   "source": [
    "import numpy as np\n",
    "import pandas as pd\n",
    "import matplotlib.pyplot as plt\n",
    "\n",
    "import seaborn as sns\n",
    "\n",
    "from sklearn.preprocessing import StandardScaler\n",
    "from sklearn.model_selection import GridSearchCV\n",
    "from sklearn.ensemble import RandomForestClassifier"
   ]
  },
  {
   "cell_type": "code",
   "execution_count": 20,
   "metadata": {},
   "outputs": [],
   "source": [
    "# Load up the csv files from the database\n",
    "\n",
    "estonia = pd.read_csv(\"./Resources/estonia-passenger-list-cleaned.csv\")\n",
    "ireland = pd.read_csv(\"./Resources/empress_of_ireland_passenger_list.csv\")\n",
    "\n",
    "titanic_train = pd.read_csv(\"./Resources/train.csv\")\n",
    "titanic_test = pd.read_csv(\"./Resources/test.csv\")\n",
    "\n",
    "survived = pd.read_csv(\"./Resources/gender_submission.csv\")\n",
    "\n",
    "titanic_test = titanic_test.set_index(\"PassengerId\").join(survived.set_index(\"PassengerId\"), on=\"PassengerId\")"
   ]
  },
  {
   "cell_type": "code",
   "execution_count": 21,
   "metadata": {},
   "outputs": [],
   "source": [
    "columns = estonia.columns\n",
    "\n",
    "titanic_test = titanic_test[columns]\n",
    "titanic_train = titanic_train[columns]\n",
    "\n",
    "titanic_train.head()\n",
    "\n",
    "titanic_combined = pd.concat([titanic_test, titanic_train])"
   ]
  },
  {
   "cell_type": "code",
   "execution_count": 22,
   "metadata": {},
   "outputs": [
    {
     "data": {
      "text/html": [
       "<div>\n",
       "<style scoped>\n",
       "    .dataframe tbody tr th:only-of-type {\n",
       "        vertical-align: middle;\n",
       "    }\n",
       "\n",
       "    .dataframe tbody tr th {\n",
       "        vertical-align: top;\n",
       "    }\n",
       "\n",
       "    .dataframe thead th {\n",
       "        text-align: right;\n",
       "    }\n",
       "</style>\n",
       "<table border=\"1\" class=\"dataframe\">\n",
       "  <thead>\n",
       "    <tr style=\"text-align: right;\">\n",
       "      <th></th>\n",
       "      <th>Survived</th>\n",
       "      <th>Age</th>\n",
       "      <th>Pclass_1</th>\n",
       "      <th>Pclass_2</th>\n",
       "      <th>Pclass_3</th>\n",
       "      <th>Sex_female</th>\n",
       "      <th>Sex_male</th>\n",
       "      <th>Pclass_0</th>\n",
       "    </tr>\n",
       "  </thead>\n",
       "  <tbody>\n",
       "    <tr>\n",
       "      <th>892</th>\n",
       "      <td>0</td>\n",
       "      <td>34.5</td>\n",
       "      <td>0</td>\n",
       "      <td>0</td>\n",
       "      <td>1</td>\n",
       "      <td>0</td>\n",
       "      <td>1</td>\n",
       "      <td>0</td>\n",
       "    </tr>\n",
       "    <tr>\n",
       "      <th>893</th>\n",
       "      <td>1</td>\n",
       "      <td>47.0</td>\n",
       "      <td>0</td>\n",
       "      <td>0</td>\n",
       "      <td>1</td>\n",
       "      <td>1</td>\n",
       "      <td>0</td>\n",
       "      <td>0</td>\n",
       "    </tr>\n",
       "    <tr>\n",
       "      <th>894</th>\n",
       "      <td>0</td>\n",
       "      <td>62.0</td>\n",
       "      <td>0</td>\n",
       "      <td>1</td>\n",
       "      <td>0</td>\n",
       "      <td>0</td>\n",
       "      <td>1</td>\n",
       "      <td>0</td>\n",
       "    </tr>\n",
       "    <tr>\n",
       "      <th>895</th>\n",
       "      <td>0</td>\n",
       "      <td>27.0</td>\n",
       "      <td>0</td>\n",
       "      <td>0</td>\n",
       "      <td>1</td>\n",
       "      <td>0</td>\n",
       "      <td>1</td>\n",
       "      <td>0</td>\n",
       "    </tr>\n",
       "    <tr>\n",
       "      <th>896</th>\n",
       "      <td>1</td>\n",
       "      <td>22.0</td>\n",
       "      <td>0</td>\n",
       "      <td>0</td>\n",
       "      <td>1</td>\n",
       "      <td>1</td>\n",
       "      <td>0</td>\n",
       "      <td>0</td>\n",
       "    </tr>\n",
       "  </tbody>\n",
       "</table>\n",
       "</div>"
      ],
      "text/plain": [
       "     Survived   Age  Pclass_1  Pclass_2  Pclass_3  Sex_female  Sex_male  \\\n",
       "892         0  34.5         0         0         1           0         1   \n",
       "893         1  47.0         0         0         1           1         0   \n",
       "894         0  62.0         0         1         0           0         1   \n",
       "895         0  27.0         0         0         1           0         1   \n",
       "896         1  22.0         0         0         1           1         0   \n",
       "\n",
       "     Pclass_0  \n",
       "892         0  \n",
       "893         0  \n",
       "894         0  \n",
       "895         0  \n",
       "896         0  "
      ]
     },
     "execution_count": 22,
     "metadata": {},
     "output_type": "execute_result"
    }
   ],
   "source": [
    "categoricals = titanic_combined[[\"Survived\", \"Pclass\", \"Sex\", \"Age\"]].astype({\"Pclass\":\"str\"}).select_dtypes(exclude=['int64', 'float64'])\n",
    "categorical_dummies = pd.get_dummies(categoricals, drop_first=False)\n",
    "\n",
    "numericals = titanic_combined.drop(categoricals,axis=1)[[\"Survived\",\"Age\"]]\n",
    "\n",
    "titanic_categorical= pd.concat([numericals, categorical_dummies], axis=1)\n",
    "\n",
    "# Pclass_0 is used in the empress of ireland and the estonia dataset to describe crew\n",
    "titanic_categorical[\"Pclass_0\"] = 0\n",
    "titanic_categorical.head()\n"
   ]
  },
  {
   "cell_type": "code",
   "execution_count": 23,
   "metadata": {},
   "outputs": [
    {
     "data": {
      "text/html": [
       "<div>\n",
       "<style scoped>\n",
       "    .dataframe tbody tr th:only-of-type {\n",
       "        vertical-align: middle;\n",
       "    }\n",
       "\n",
       "    .dataframe tbody tr th {\n",
       "        vertical-align: top;\n",
       "    }\n",
       "\n",
       "    .dataframe thead th {\n",
       "        text-align: right;\n",
       "    }\n",
       "</style>\n",
       "<table border=\"1\" class=\"dataframe\">\n",
       "  <thead>\n",
       "    <tr style=\"text-align: right;\">\n",
       "      <th></th>\n",
       "      <th>Survived</th>\n",
       "      <th>Age</th>\n",
       "      <th>Pclass_0</th>\n",
       "      <th>Pclass_1</th>\n",
       "      <th>Pclass_2</th>\n",
       "      <th>Pclass_3</th>\n",
       "      <th>Sex_female</th>\n",
       "      <th>Sex_male</th>\n",
       "    </tr>\n",
       "  </thead>\n",
       "  <tbody>\n",
       "    <tr>\n",
       "      <th>0</th>\n",
       "      <td>1</td>\n",
       "      <td>NaN</td>\n",
       "      <td>1</td>\n",
       "      <td>0</td>\n",
       "      <td>0</td>\n",
       "      <td>0</td>\n",
       "      <td>0</td>\n",
       "      <td>1</td>\n",
       "    </tr>\n",
       "    <tr>\n",
       "      <th>1</th>\n",
       "      <td>0</td>\n",
       "      <td>NaN</td>\n",
       "      <td>1</td>\n",
       "      <td>0</td>\n",
       "      <td>0</td>\n",
       "      <td>0</td>\n",
       "      <td>0</td>\n",
       "      <td>1</td>\n",
       "    </tr>\n",
       "    <tr>\n",
       "      <th>2</th>\n",
       "      <td>1</td>\n",
       "      <td>NaN</td>\n",
       "      <td>1</td>\n",
       "      <td>0</td>\n",
       "      <td>0</td>\n",
       "      <td>0</td>\n",
       "      <td>0</td>\n",
       "      <td>1</td>\n",
       "    </tr>\n",
       "    <tr>\n",
       "      <th>3</th>\n",
       "      <td>0</td>\n",
       "      <td>NaN</td>\n",
       "      <td>1</td>\n",
       "      <td>0</td>\n",
       "      <td>0</td>\n",
       "      <td>0</td>\n",
       "      <td>0</td>\n",
       "      <td>1</td>\n",
       "    </tr>\n",
       "    <tr>\n",
       "      <th>4</th>\n",
       "      <td>1</td>\n",
       "      <td>NaN</td>\n",
       "      <td>1</td>\n",
       "      <td>0</td>\n",
       "      <td>0</td>\n",
       "      <td>0</td>\n",
       "      <td>0</td>\n",
       "      <td>1</td>\n",
       "    </tr>\n",
       "  </tbody>\n",
       "</table>\n",
       "</div>"
      ],
      "text/plain": [
       "   Survived  Age  Pclass_0  Pclass_1  Pclass_2  Pclass_3  Sex_female  Sex_male\n",
       "0         1  NaN         1         0         0         0           0         1\n",
       "1         0  NaN         1         0         0         0           0         1\n",
       "2         1  NaN         1         0         0         0           0         1\n",
       "3         0  NaN         1         0         0         0           0         1\n",
       "4         1  NaN         1         0         0         0           0         1"
      ]
     },
     "execution_count": 23,
     "metadata": {},
     "output_type": "execute_result"
    }
   ],
   "source": [
    "categoricals = ireland[[\"Survived\", \"Pclass\", \"Sex\", \"Age\"]].astype({\"Pclass\":\"str\"}).select_dtypes(exclude=['int64', 'float64'])\n",
    "categorical_dummies = pd.get_dummies(categoricals, drop_first=False)\n",
    "\n",
    "numericals = ireland.drop(categoricals,axis=1)[[\"Survived\",\"Age\"]]\n",
    "\n",
    "ireland_categorical = pd.concat([numericals, categorical_dummies], axis=1)\n",
    "ireland_categorical.head()"
   ]
  },
  {
   "cell_type": "code",
   "execution_count": 24,
   "metadata": {},
   "outputs": [
    {
     "data": {
      "text/html": [
       "<div>\n",
       "<style scoped>\n",
       "    .dataframe tbody tr th:only-of-type {\n",
       "        vertical-align: middle;\n",
       "    }\n",
       "\n",
       "    .dataframe tbody tr th {\n",
       "        vertical-align: top;\n",
       "    }\n",
       "\n",
       "    .dataframe thead th {\n",
       "        text-align: right;\n",
       "    }\n",
       "</style>\n",
       "<table border=\"1\" class=\"dataframe\">\n",
       "  <thead>\n",
       "    <tr style=\"text-align: right;\">\n",
       "      <th></th>\n",
       "      <th>Survived</th>\n",
       "      <th>Age</th>\n",
       "      <th>Pclass_0</th>\n",
       "      <th>Pclass_1</th>\n",
       "      <th>Pclass_2</th>\n",
       "      <th>Pclass_3</th>\n",
       "      <th>Sex_female</th>\n",
       "      <th>Sex_male</th>\n",
       "    </tr>\n",
       "  </thead>\n",
       "  <tbody>\n",
       "    <tr>\n",
       "      <th>0</th>\n",
       "      <td>0</td>\n",
       "      <td>62</td>\n",
       "      <td>0</td>\n",
       "      <td>0</td>\n",
       "      <td>0</td>\n",
       "      <td>1</td>\n",
       "      <td>0</td>\n",
       "      <td>1</td>\n",
       "    </tr>\n",
       "    <tr>\n",
       "      <th>1</th>\n",
       "      <td>0</td>\n",
       "      <td>22</td>\n",
       "      <td>1</td>\n",
       "      <td>0</td>\n",
       "      <td>0</td>\n",
       "      <td>0</td>\n",
       "      <td>1</td>\n",
       "      <td>0</td>\n",
       "    </tr>\n",
       "    <tr>\n",
       "      <th>2</th>\n",
       "      <td>0</td>\n",
       "      <td>21</td>\n",
       "      <td>1</td>\n",
       "      <td>0</td>\n",
       "      <td>0</td>\n",
       "      <td>0</td>\n",
       "      <td>1</td>\n",
       "      <td>0</td>\n",
       "    </tr>\n",
       "    <tr>\n",
       "      <th>3</th>\n",
       "      <td>0</td>\n",
       "      <td>53</td>\n",
       "      <td>1</td>\n",
       "      <td>0</td>\n",
       "      <td>0</td>\n",
       "      <td>0</td>\n",
       "      <td>0</td>\n",
       "      <td>1</td>\n",
       "    </tr>\n",
       "    <tr>\n",
       "      <th>4</th>\n",
       "      <td>0</td>\n",
       "      <td>55</td>\n",
       "      <td>0</td>\n",
       "      <td>0</td>\n",
       "      <td>0</td>\n",
       "      <td>1</td>\n",
       "      <td>1</td>\n",
       "      <td>0</td>\n",
       "    </tr>\n",
       "  </tbody>\n",
       "</table>\n",
       "</div>"
      ],
      "text/plain": [
       "   Survived  Age  Pclass_0  Pclass_1  Pclass_2  Pclass_3  Sex_female  Sex_male\n",
       "0         0   62         0         0         0         1           0         1\n",
       "1         0   22         1         0         0         0           1         0\n",
       "2         0   21         1         0         0         0           1         0\n",
       "3         0   53         1         0         0         0           0         1\n",
       "4         0   55         0         0         0         1           1         0"
      ]
     },
     "execution_count": 24,
     "metadata": {},
     "output_type": "execute_result"
    }
   ],
   "source": [
    "categoricals = estonia[[\"Survived\", \"Pclass\", \"Sex\", \"Age\"]].astype({\"Pclass\":\"str\"}).select_dtypes(exclude=['int64', 'float64'])\n",
    "categorical_dummies = pd.get_dummies(categoricals, drop_first=False)\n",
    "\n",
    "numericals = estonia.drop(categoricals,axis=1)[[\"Survived\",\"Age\"]]\n",
    "\n",
    "estonia_categorical = pd.concat([numericals, categorical_dummies], axis=1)\n",
    "\n",
    "# The estonia only had information about crew and passengers, we decided make all the passengers 2nd class as a middle ground between 1st and 3rd, so we have to rename this column\n",
    "estonia_categorical.rename({\"Pclass_1\":\"Pclass_3\"}, axis=1, inplace=True)\n",
    "\n",
    "estonia_categorical[\"Pclass_1\"] = 0\n",
    "estonia_categorical[\"Pclass_2\"] = 0\n",
    "\n",
    "# We also want to reorder the columns to match each other, using the column order from the empress of ireland dataset\n",
    "\n",
    "estonia_categorical = estonia_categorical[ireland_categorical.columns]\n",
    "titanic_categorical = titanic_categorical[ireland_categorical.columns]\n",
    "\n",
    "estonia_categorical.head()"
   ]
  },
  {
   "cell_type": "code",
   "execution_count": 25,
   "metadata": {},
   "outputs": [
    {
     "data": {
      "image/png": "[encoded data removed]",
      "text/plain": [
       "<Figure size 1440x360 with 3 Axes>"
      ]
     },
     "metadata": {
      "needs_background": "light"
     },
     "output_type": "display_data"
    }
   ],
   "source": [
    "# Violin plot of the distribution of ages among those who survived or didn't \n",
    "\n",
    "fig, (ax1, ax2, ax3) = plt.subplots(1,3, figsize=(20,5))\n",
    "\n",
    "sns.violinplot(data=titanic_combined, x=\"Survived\",y=\"Age\", ax=ax1)\n",
    "ax1.set_title(\"Titanic\")\n",
    "\n",
    "sns.violinplot(data=ireland, x=\"Survived\",y=\"Age\", ax=ax2)\n",
    "ax2.set_title(\"Empress of Ireland\")\n",
    "\n",
    "sns.violinplot(data=estonia, x=\"Survived\",y=\"Age\", ax=ax3)\n",
    "ax3.set_title(\"Estonia\")\n",
    "\n",
    "plt.show()"
   ]
  },
  {
   "cell_type": "code",
   "execution_count": 26,
   "metadata": {},
   "outputs": [
    {
     "data": {
      "image/png": "[encoded data removed]",
      "text/plain": [
       "<Figure size 1440x360 with 6 Axes>"
      ]
     },
     "metadata": {
      "needs_background": "light"
     },
     "output_type": "display_data"
    }
   ],
   "source": [
    "# Correlation heatmap for the Titanic, Empress of Ireland and Estonia\n",
    "\n",
    "fig, (ax1, ax2, ax3) = plt.subplots(1,3, figsize=(20,5))\n",
    "\n",
    "titanic_corr = titanic_categorical.corr()\n",
    "ireland_corr = ireland_categorical.corr()\n",
    "estonia_corr = estonia_categorical.corr()\n",
    "\n",
    "sns.heatmap(titanic_corr, ax=ax1, cbar=True, annot=True, linewidth=0.5)\n",
    "ax1.set_title(\"Titanic\")\n",
    "\n",
    "sns.heatmap(ireland_corr, ax=ax2, cbar=True, annot=True, linewidth=0.5)\n",
    "ax2.set_title(\"Empress of Ireland\")\n",
    "\n",
    "sns.heatmap(estonia_corr,ax=ax3, cbar=True, annot=True, linewidth=0.5)\n",
    "ax3.set_title(\"Estonia\")\n",
    "\n",
    "plt.show()"
   ]
  },
  {
   "cell_type": "code",
   "execution_count": 27,
   "metadata": {},
   "outputs": [],
   "source": [
    "from sklearn.decomposition import PCA\n",
    "from sklearn.neighbors import KNeighborsClassifier\n",
    "from sklearn.cluster import KMeans\n",
    "from sklearn.metrics import accuracy_score\n",
    "from sklearn.metrics import confusion_matrix, classification_report"
   ]
  },
  {
   "cell_type": "code",
   "execution_count": 28,
   "metadata": {},
   "outputs": [],
   "source": [
    "# I've been keeping the empty rows around, but we have to get rid of them before going into machine learning\n",
    "\n",
    "titanic_categorical.dropna(inplace=True)\n",
    "ireland_categorical.dropna(inplace=True)\n",
    "estonia_categorical.dropna(inplace=True)\n",
    "\n",
    "target_titanic = titanic_categorical[\"Survived\"]\n",
    "features_titanic = titanic_categorical.drop([\"Survived\"], axis=1)\n",
    "\n",
    "target_ireland = ireland_categorical[\"Survived\"]\n",
    "features_ireland = ireland_categorical.drop([\"Survived\"], axis=1)\n",
    "\n",
    "target_estonia = estonia_categorical[\"Survived\"]\n",
    "features_estonia = estonia_categorical.drop([\"Survived\"], axis=1)"
   ]
  },
  {
   "cell_type": "code",
   "execution_count": 29,
   "metadata": {},
   "outputs": [
    {
     "data": {
      "text/html": [
       "<div>\n",
       "<style scoped>\n",
       "    .dataframe tbody tr th:only-of-type {\n",
       "        vertical-align: middle;\n",
       "    }\n",
       "\n",
       "    .dataframe tbody tr th {\n",
       "        vertical-align: top;\n",
       "    }\n",
       "\n",
       "    .dataframe thead th {\n",
       "        text-align: right;\n",
       "    }\n",
       "</style>\n",
       "<table border=\"1\" class=\"dataframe\">\n",
       "  <thead>\n",
       "    <tr style=\"text-align: right;\">\n",
       "      <th></th>\n",
       "      <th>Age</th>\n",
       "      <th>Pclass_0</th>\n",
       "      <th>Pclass_1</th>\n",
       "      <th>Pclass_2</th>\n",
       "      <th>Pclass_3</th>\n",
       "      <th>Sex_female</th>\n",
       "      <th>Sex_male</th>\n",
       "    </tr>\n",
       "  </thead>\n",
       "  <tbody>\n",
       "    <tr>\n",
       "      <th>892</th>\n",
       "      <td>34.5</td>\n",
       "      <td>0</td>\n",
       "      <td>0</td>\n",
       "      <td>0</td>\n",
       "      <td>1</td>\n",
       "      <td>0</td>\n",
       "      <td>1</td>\n",
       "    </tr>\n",
       "    <tr>\n",
       "      <th>893</th>\n",
       "      <td>47.0</td>\n",
       "      <td>0</td>\n",
       "      <td>0</td>\n",
       "      <td>0</td>\n",
       "      <td>1</td>\n",
       "      <td>1</td>\n",
       "      <td>0</td>\n",
       "    </tr>\n",
       "    <tr>\n",
       "      <th>894</th>\n",
       "      <td>62.0</td>\n",
       "      <td>0</td>\n",
       "      <td>0</td>\n",
       "      <td>1</td>\n",
       "      <td>0</td>\n",
       "      <td>0</td>\n",
       "      <td>1</td>\n",
       "    </tr>\n",
       "    <tr>\n",
       "      <th>895</th>\n",
       "      <td>27.0</td>\n",
       "      <td>0</td>\n",
       "      <td>0</td>\n",
       "      <td>0</td>\n",
       "      <td>1</td>\n",
       "      <td>0</td>\n",
       "      <td>1</td>\n",
       "    </tr>\n",
       "    <tr>\n",
       "      <th>896</th>\n",
       "      <td>22.0</td>\n",
       "      <td>0</td>\n",
       "      <td>0</td>\n",
       "      <td>0</td>\n",
       "      <td>1</td>\n",
       "      <td>1</td>\n",
       "      <td>0</td>\n",
       "    </tr>\n",
       "  </tbody>\n",
       "</table>\n",
       "</div>"
      ],
      "text/plain": [
       "      Age  Pclass_0  Pclass_1  Pclass_2  Pclass_3  Sex_female  Sex_male\n",
       "892  34.5         0         0         0         1           0         1\n",
       "893  47.0         0         0         0         1           1         0\n",
       "894  62.0         0         0         1         0           0         1\n",
       "895  27.0         0         0         0         1           0         1\n",
       "896  22.0         0         0         0         1           1         0"
      ]
     },
     "execution_count": 29,
     "metadata": {},
     "output_type": "execute_result"
    }
   ],
   "source": [
    "features_titanic.head()"
   ]
  },
  {
   "cell_type": "code",
   "execution_count": 30,
   "metadata": {},
   "outputs": [],
   "source": [
    "from sklearn.linear_model import LogisticRegression\n",
    "from sklearn.ensemble import RandomForestClassifier\n",
    "from sklearn.metrics import r2_score\n",
    "from sklearn.model_selection import train_test_split\n",
    "\n",
    "\n",
    "import tensorflow as tf\n",
    "\n",
    "import keras_tuner\n",
    "from tensorflow import keras\n",
    "\n",
    "def create_logistic_regression(features, target, random_state=0):\n",
    "    clf = LogisticRegression(random_state=0)\n",
    "\n",
    "    clf.fit(features, target)\n",
    "\n",
    "    return clf\n",
    "\n",
    "def create_random_forest(features, target, random_state=0):\n",
    "    clf = RandomForestClassifier(max_depth=2, random_state=0)\n",
    "\n",
    "    clf.fit(features, target)\n",
    "\n",
    "    return clf\n",
    "\n",
    "def create_neural_net(X_train, X_test, y_train, y_test, random_state=0):\n",
    "\n",
    "    nn=tf.keras.models.Sequential()\n",
    "    nn.add(tf.keras.layers.Dense(units=5, activation=\"relu\", input_dim=7))\n",
    "    nn.add(tf.keras.layers.Dense(units=10, activation=\"relu\"))\n",
    "    nn.add(tf.keras.layers.Dense(units=1, activation=\"sigmoid\"))\n",
    "\n",
    "    nn.compile(loss=\"binary_crossentropy\", optimizer=\"adam\", metrics=[\"accuracy\"])\n",
    "\n",
    "    fit_model = nn.fit(X_train, y_train, epochs=20)\n",
    "    \n",
    "    return nn\n",
    "\n",
    "def create_clf(features, target, random_state=0):\n",
    "    X_train, X_test, y_train, y_test = train_test_split(features, target, random_state=random_state)\n",
    "\n",
    "    logistic_regression = create_logistic_regression(X_train, y_train, random_state=random_state)\n",
    "    random_forest = create_random_forest(X_train, y_train, random_state=random_state)\n",
    "    nn = create_neural_net( X_train, X_test, y_train, y_test, random_state=random_state)\n",
    "\n",
    "    return [logistic_regression, random_forest, nn]\n",
    "\n",
    "def clf_prediction(clf, features, target):\n",
    "    prediction = clf.predict(features)\n",
    "\n",
    "    total_correct = 0\n",
    "\n",
    "    for i in range(len(prediction)):\n",
    "        if prediction[i] == target.iloc[i]:\n",
    "            total_correct += 1\n",
    "\n",
    "    accuracy = total_correct/len(target)\n",
    "    return accuracy"
   ]
  },
  {
   "cell_type": "code",
   "execution_count": 31,
   "metadata": {},
   "outputs": [],
   "source": [
    "datasets = {\n",
    "    \"Titanic\":{\n",
    "        \"features\":features_titanic,\n",
    "        \"target\":target_titanic,\n",
    "        \"classifiers\":[]\n",
    "    },\n",
    "    \"Empress of Ireland\":{\n",
    "        \"features\":features_ireland,\n",
    "        \"target\":target_ireland,\n",
    "        \"classifiers\":[]\n",
    "    },\n",
    "    \"Estonia\":{\n",
    "        \"features\":features_estonia,\n",
    "        \"target\":target_estonia,\n",
    "        \"classifiers\":[]\n",
    "    }\n",
    "}\n",
    "\n",
    "logistic_regression_accuracy = {\n",
    "    \"trained on titanic\":[], \n",
    "    \"trained on ireland\":[], \n",
    "    \"trained on estonia\":[]\n",
    "}\n",
    "\n",
    "random_forest_accuracy = {\n",
    "    \"trained on titanic\":[], \n",
    "    \"trained on ireland\":[], \n",
    "    \"trained on estonia\":[]\n",
    "}\n",
    "\n",
    "nn_accuracy = {\n",
    "    \"trained on titanic\":[], \n",
    "    \"trained on ireland\":[], \n",
    "    \"trained on estonia\":[]\n",
    "}\n",
    "\n",
    "total_accuracy = {\n",
    "    \"trained on titanic\":[], \n",
    "    \"trained on ireland\":[], \n",
    "    \"trained on estonia\":[]\n",
    "}"
   ]
  },
  {
   "cell_type": "code",
   "execution_count": 32,
   "metadata": {},
   "outputs": [
    {
     "name": "stdout",
     "output_type": "stream",
     "text": [
      "Epoch 1/20\n",
      "25/25 [==============================] - 1s 2ms/step - loss: 1.1126 - accuracy: 0.4171\n",
      "Epoch 2/20\n",
      "25/25 [==============================] - 0s 1ms/step - loss: 0.6414 - accuracy: 0.6747\n",
      "Epoch 3/20\n",
      "25/25 [==============================] - 0s 2ms/step - loss: 0.6204 - accuracy: 0.7041\n",
      "Epoch 4/20\n",
      "25/25 [==============================] - 0s 1ms/step - loss: 0.5999 - accuracy: 0.8214\n",
      "Epoch 5/20\n",
      "25/25 [==============================] - 0s 1ms/step - loss: 0.5802 - accuracy: 0.7883\n",
      "Epoch 6/20\n",
      "25/25 [==============================] - 0s 1ms/step - loss: 0.5594 - accuracy: 0.8023\n",
      "Epoch 7/20\n",
      "25/25 [==============================] - 0s 2ms/step - loss: 0.5386 - accuracy: 0.8342\n",
      "Epoch 8/20\n",
      "25/25 [==============================] - 0s 2ms/step - loss: 0.5185 - accuracy: 0.8444\n",
      "Epoch 9/20\n",
      "25/25 [==============================] - 0s 1ms/step - loss: 0.4995 - accuracy: 0.8418\n",
      "Epoch 10/20\n",
      "25/25 [==============================] - 0s 3ms/step - loss: 0.4814 - accuracy: 0.8457\n",
      "Epoch 11/20\n",
      "25/25 [==============================] - 0s 3ms/step - loss: 0.4683 - accuracy: 0.8508: 0s - loss: 0.4646 - accuracy: 0.85\n",
      "Epoch 12/20\n",
      "25/25 [==============================] - 0s 2ms/step - loss: 0.4496 - accuracy: 0.8508\n",
      "Epoch 13/20\n",
      "25/25 [==============================] - 0s 2ms/step - loss: 0.4381 - accuracy: 0.8520\n",
      "Epoch 14/20\n",
      "25/25 [==============================] - 0s 1ms/step - loss: 0.4272 - accuracy: 0.8520\n",
      "Epoch 15/20\n",
      "25/25 [==============================] - 0s 2ms/step - loss: 0.4161 - accuracy: 0.8520\n",
      "Epoch 16/20\n",
      "25/25 [==============================] - 0s 1ms/step - loss: 0.4085 - accuracy: 0.8520\n",
      "Epoch 17/20\n",
      "25/25 [==============================] - 0s 2ms/step - loss: 0.4014 - accuracy: 0.8520\n",
      "Epoch 18/20\n",
      "25/25 [==============================] - 0s 3ms/step - loss: 0.3990 - accuracy: 0.8520\n",
      "Epoch 19/20\n",
      "25/25 [==============================] - 0s 2ms/step - loss: 0.3947 - accuracy: 0.8508\n",
      "Epoch 20/20\n",
      "25/25 [==============================] - 0s 1ms/step - loss: 0.3966 - accuracy: 0.8520\n",
      "Epoch 1/20\n",
      "19/19 [==============================] - 0s 1ms/step - loss: 0.5839 - accuracy: 0.7409\n",
      "Epoch 2/20\n",
      "19/19 [==============================] - 0s 2ms/step - loss: 0.5616 - accuracy: 0.7459\n",
      "Epoch 3/20\n",
      "19/19 [==============================] - 0s 2ms/step - loss: 0.5594 - accuracy: 0.7558\n",
      "Epoch 4/20\n",
      "19/19 [==============================] - 0s 1ms/step - loss: 0.5573 - accuracy: 0.7690\n",
      "Epoch 5/20\n",
      "19/19 [==============================] - 0s 2ms/step - loss: 0.5533 - accuracy: 0.7640\n",
      "Epoch 6/20\n",
      "19/19 [==============================] - 0s 2ms/step - loss: 0.5509 - accuracy: 0.7739\n",
      "Epoch 7/20\n",
      "19/19 [==============================] - 0s 2ms/step - loss: 0.5518 - accuracy: 0.7772\n",
      "Epoch 8/20\n",
      "19/19 [==============================] - 0s 2ms/step - loss: 0.5449 - accuracy: 0.7772\n",
      "Epoch 9/20\n",
      "19/19 [==============================] - 0s 2ms/step - loss: 0.5415 - accuracy: 0.7772\n",
      "Epoch 10/20\n",
      "19/19 [==============================] - 0s 1ms/step - loss: 0.5396 - accuracy: 0.7772\n",
      "Epoch 11/20\n",
      "19/19 [==============================] - 0s 1ms/step - loss: 0.5389 - accuracy: 0.7772\n",
      "Epoch 12/20\n",
      "19/19 [==============================] - 0s 2ms/step - loss: 0.5311 - accuracy: 0.7772\n",
      "Epoch 13/20\n",
      "19/19 [==============================] - 0s 2ms/step - loss: 0.5247 - accuracy: 0.7772\n",
      "Epoch 14/20\n",
      "19/19 [==============================] - 0s 1ms/step - loss: 0.5218 - accuracy: 0.7772\n",
      "Epoch 15/20\n",
      "19/19 [==============================] - 0s 2ms/step - loss: 0.5182 - accuracy: 0.7772\n",
      "Epoch 16/20\n",
      "19/19 [==============================] - 0s 2ms/step - loss: 0.5139 - accuracy: 0.7772\n",
      "Epoch 17/20\n",
      "19/19 [==============================] - 0s 1ms/step - loss: 0.5113 - accuracy: 0.7772\n",
      "Epoch 18/20\n",
      "19/19 [==============================] - 0s 1ms/step - loss: 0.5100 - accuracy: 0.7772\n",
      "Epoch 19/20\n",
      "19/19 [==============================] - 0s 2ms/step - loss: 0.5080 - accuracy: 0.7772\n",
      "Epoch 20/20\n",
      "19/19 [==============================] - 0s 1ms/step - loss: 0.5038 - accuracy: 0.7772\n",
      "Epoch 1/20\n",
      "24/24 [==============================] - 1s 1ms/step - loss: 2.1848 - accuracy: 0.1336\n",
      "Epoch 2/20\n",
      "24/24 [==============================] - 0s 2ms/step - loss: 0.9382 - accuracy: 0.2794\n",
      "Epoch 3/20\n",
      "24/24 [==============================] - 0s 2ms/step - loss: 0.4630 - accuracy: 0.8637\n",
      "Epoch 4/20\n",
      "24/24 [==============================] - 0s 1ms/step - loss: 0.3844 - accuracy: 0.8650\n",
      "Epoch 5/20\n",
      "24/24 [==============================] - 0s 2ms/step - loss: 0.3699 - accuracy: 0.8650\n",
      "Epoch 6/20\n",
      "24/24 [==============================] - 0s 2ms/step - loss: 0.3665 - accuracy: 0.8650\n",
      "Epoch 7/20\n",
      "24/24 [==============================] - 0s 1ms/step - loss: 0.3657 - accuracy: 0.8664\n",
      "Epoch 8/20\n",
      "24/24 [==============================] - 0s 2ms/step - loss: 0.3653 - accuracy: 0.8664\n",
      "Epoch 9/20\n",
      "24/24 [==============================] - 0s 2ms/step - loss: 0.3648 - accuracy: 0.8664\n",
      "Epoch 10/20\n",
      "24/24 [==============================] - 0s 2ms/step - loss: 0.3651 - accuracy: 0.8664\n",
      "Epoch 11/20\n",
      "24/24 [==============================] - 0s 2ms/step - loss: 0.3643 - accuracy: 0.8664\n",
      "Epoch 12/20\n",
      "24/24 [==============================] - 0s 3ms/step - loss: 0.3640 - accuracy: 0.8664\n",
      "Epoch 13/20\n",
      "24/24 [==============================] - 0s 2ms/step - loss: 0.3638 - accuracy: 0.8664\n",
      "Epoch 14/20\n",
      "24/24 [==============================] - 0s 2ms/step - loss: 0.3635 - accuracy: 0.8664\n",
      "Epoch 15/20\n",
      "24/24 [==============================] - 0s 1ms/step - loss: 0.3632 - accuracy: 0.8664\n",
      "Epoch 16/20\n",
      "24/24 [==============================] - 0s 2ms/step - loss: 0.3632 - accuracy: 0.8664\n",
      "Epoch 17/20\n",
      "24/24 [==============================] - 0s 2ms/step - loss: 0.3629 - accuracy: 0.8664\n",
      "Epoch 18/20\n",
      "24/24 [==============================] - 0s 2ms/step - loss: 0.3624 - accuracy: 0.8664\n",
      "Epoch 19/20\n",
      "24/24 [==============================] - 0s 1ms/step - loss: 0.3628 - accuracy: 0.8664\n",
      "Epoch 20/20\n",
      "24/24 [==============================] - 0s 2ms/step - loss: 0.3621 - accuracy: 0.8664\n",
      "33/33 [==============================] - 0s 861us/step - loss: 0.3861 - accuracy: 0.8499\n",
      "26/26 [==============================] - 0s 833us/step - loss: 0.9549 - accuracy: 0.4512\n",
      "31/31 [==============================] - 0s 2ms/step - loss: 0.7812 - accuracy: 0.4914\n",
      "33/33 [==============================] - 0s 1ms/step - loss: 0.8185 - accuracy: 0.6013\n",
      "26/26 [==============================] - 0s 944us/step - loss: 0.5172 - accuracy: 0.7664\n",
      "31/31 [==============================] - 0s 2ms/step - loss: 0.3742 - accuracy: 0.8615\n",
      "33/33 [==============================] - 0s 861us/step - loss: 0.7998 - accuracy: 0.6013\n",
      "26/26 [==============================] - 0s 1ms/step - loss: 0.5978 - accuracy: 0.7664\n",
      "31/31 [==============================] - 0s 1ms/step - loss: 0.3710 - accuracy: 0.8615\n"
     ]
    }
   ],
   "source": [
    "datasets[\"Titanic\"][\"classifiers\"] = create_clf(datasets[\"Titanic\"][\"features\"], datasets[\"Titanic\"][\"target\"])\n",
    "datasets[\"Empress of Ireland\"][\"classifiers\"] = create_clf(datasets[\"Empress of Ireland\"][\"features\"], datasets[\"Empress of Ireland\"][\"target\"])\n",
    "datasets[\"Estonia\"][\"classifiers\"] = create_clf(datasets[\"Estonia\"][\"features\"], datasets[\"Estonia\"][\"target\"])\n",
    "\n",
    "def create_accuracy_row(clf):\n",
    "\n",
    "    results = [\n",
    "        clf_prediction(clf, datasets[\"Titanic\"][\"features\"], datasets[\"Titanic\"][\"target\"]),\n",
    "        clf_prediction(clf, datasets[\"Empress of Ireland\"][\"features\"], datasets[\"Empress of Ireland\"][\"target\"]),\n",
    "        clf_prediction(clf, datasets[\"Estonia\"][\"features\"], datasets[\"Estonia\"][\"target\"])\n",
    "    ]\n",
    "    return results\n",
    "\n",
    "def create_accuracy_row_nn(nn):\n",
    "    results = [\n",
    "        nn.evaluate(datasets[\"Titanic\"][\"features\"], datasets[\"Titanic\"][\"target\"])[1],\n",
    "        nn.evaluate(datasets[\"Empress of Ireland\"][\"features\"], datasets[\"Empress of Ireland\"][\"target\"])[1],\n",
    "        nn.evaluate(datasets[\"Estonia\"][\"features\"], datasets[\"Estonia\"][\"target\"])[1]\n",
    "    ]\n",
    "    return results\n",
    "\n",
    "logistic_regression_accuracy[\"trained on titanic\"] = create_accuracy_row(datasets[\"Titanic\"][\"classifiers\"][0])\n",
    "logistic_regression_accuracy[\"trained on ireland\"] = create_accuracy_row(datasets[\"Empress of Ireland\"][\"classifiers\"][0])\n",
    "logistic_regression_accuracy[\"trained on estonia\"] = create_accuracy_row(datasets[\"Estonia\"][\"classifiers\"][0])\n",
    "\n",
    "random_forest_accuracy[\"trained on titanic\"] = create_accuracy_row(datasets[\"Titanic\"][\"classifiers\"][1])\n",
    "random_forest_accuracy[\"trained on ireland\"] = create_accuracy_row(datasets[\"Empress of Ireland\"][\"classifiers\"][1])\n",
    "random_forest_accuracy[\"trained on estonia\"] = create_accuracy_row(datasets[\"Estonia\"][\"classifiers\"][1])\n",
    "\n",
    "nn_accuracy[\"trained on titanic\"] = create_accuracy_row_nn(datasets[\"Titanic\"][\"classifiers\"][2])\n",
    "nn_accuracy[\"trained on ireland\"] = create_accuracy_row_nn(datasets[\"Empress of Ireland\"][\"classifiers\"][2])\n",
    "nn_accuracy[\"trained on estonia\"] = create_accuracy_row_nn(datasets[\"Estonia\"][\"classifiers\"][2])\n",
    "\n"
   ]
  },
  {
   "cell_type": "code",
   "execution_count": 33,
   "metadata": {},
   "outputs": [],
   "source": [
    "lr_accuracy_df = pd.DataFrame(logistic_regression_accuracy)\n",
    "lr_accuracy_df.index = [\"tested on titanic\", \"tested on ireland\", \"tested on estonia\"]\n",
    "\n",
    "rf_accuracy_df = pd.DataFrame(random_forest_accuracy)\n",
    "rf_accuracy_df.index = [\"tested on titanic\", \"tested on ireland\", \"tested on estonia\"]\n",
    "\n",
    "nn_accuracy_df = pd.DataFrame(nn_accuracy)\n",
    "nn_accuracy_df.index = [\"tested on titanic\", \"tested on ireland\", \"tested on estonia\"]\n"
   ]
  },
  {
   "cell_type": "code",
   "execution_count": 34,
   "metadata": {},
   "outputs": [
    {
     "data": {
      "text/plain": [
       "Text(0.5, 1.0, 'Neural Net')"
      ]
     },
     "execution_count": 34,
     "metadata": {},
     "output_type": "execute_result"
    },
    {
     "data": {
      "image/png": "[encoded data removed]",
      "text/plain": [
       "<Figure size 1584x360 with 6 Axes>"
      ]
     },
     "metadata": {
      "needs_background": "light"
     },
     "output_type": "display_data"
    }
   ],
   "source": [
    "fig, (ax1, ax2, ax3) = plt.subplots(1,3, figsize=(22,5))\n",
    "\n",
    "sns.heatmap(lr_accuracy_df, ax=ax1, cbar=True, annot=True, linewidth=0.5)\n",
    "ax1.set_title(\"Logistic Regression\")\n",
    "\n",
    "sns.heatmap(rf_accuracy_df, ax=ax2, cbar=True, annot=True, linewidth=0.5)\n",
    "ax2.set_title(\"Random Forest\")\n",
    "\n",
    "sns.heatmap(nn_accuracy_df, ax=ax3, cbar=True, annot=True, linewidth=0.5)\n",
    "ax3.set_title(\"Neural Net\")"
   ]
  },
  {
   "cell_type": "markdown",
   "metadata": {},
   "source": [
    "This block of code is defunct, do not use"
   ]
  },
  {
   "cell_type": "code",
   "execution_count": 55,
   "metadata": {},
   "outputs": [
    {
     "data": {
      "text/plain": [
       "array([0, 0, 0, ..., 1, 1, 1])"
      ]
     },
     "execution_count": 55,
     "metadata": {},
     "output_type": "execute_result"
    }
   ],
   "source": [
    "model = KMeans(n_clusters=2, random_state=0)\n",
    "\n",
    "model.fit(features_titanic)\n",
    "\n",
    "predictions = model.predict(features_titanic)\n",
    "\n",
    "model.labels_"
   ]
  },
  {
   "cell_type": "code",
   "execution_count": 56,
   "metadata": {},
   "outputs": [
    {
     "name": "stdout",
     "output_type": "stream",
     "text": [
      "Kmeans clustering got the survivors right 492 out of 1046 times and wrong 554\n"
     ]
    }
   ],
   "source": [
    "total_correct = 0\n",
    "total_wrong = 0\n",
    "\n",
    "for i in range(len(target_titanic)):\n",
    "    if target_titanic.iloc[i] == model.labels_[i]:\n",
    "        total_correct += 1\n",
    "    else:\n",
    "        total_wrong += 1\n",
    "\n",
    "print(f\"Kmeans clustering got the survivors right {total_correct} out of {len(target_titanic)} times and wrong {total_wrong}\")\n",
    "\n",
    "# Kmeans did not cluser around survivorship, so this is pretty much useless"
   ]
  },
  {
   "cell_type": "code",
   "execution_count": 67,
   "metadata": {},
   "outputs": [],
   "source": [
    "# Lets try logistic regression\n",
    "\n",
    "from sklearn.linear_model import LogisticRegression\n",
    "from sklearn.metrics import r2_score\n",
    "from sklearn.model_selection import train_test_split\n",
    "\n",
    "X_train, X_test, y_train, y_test = train_test_split(features_titanic, target_titanic, random_state=0)\n",
    "\n",
    "clf = LogisticRegression(random_state=0)\n",
    "\n",
    "clf.fit(X_train, y_train)\n",
    "\n",
    "prediction = clf.predict(X_test)\n"
   ]
  },
  {
   "cell_type": "code",
   "execution_count": 68,
   "metadata": {},
   "outputs": [
    {
     "name": "stdout",
     "output_type": "stream",
     "text": [
      "Linear regression prediction got 221 right out of 262\n",
      "for an accuracy of 84.35%\n"
     ]
    }
   ],
   "source": [
    "total_correct = 0\n",
    "\n",
    "for i in range(len(prediction)):\n",
    "    if prediction[i] == y_test.iloc[i]:\n",
    "        total_correct += 1\n",
    "\n",
    "print(f\"\"\"Linear regression prediction got {total_correct} right out of {len(y_test)}\n",
    "for an accuracy of {round(((total_correct/len(y_test)) * 100),2)}%\"\"\")"
   ]
  },
  {
   "cell_type": "code",
   "execution_count": 69,
   "metadata": {},
   "outputs": [
    {
     "name": "stdout",
     "output_type": "stream",
     "text": [
      "Linear regression prediction got 111 right out of 262\n",
      "for an accuracy of 42.37%\n"
     ]
    }
   ],
   "source": [
    "# Okay logistic regression is pretty accurate, lets test it against the Empress of Ireland\n",
    "\n",
    "ireland_prediction = clf.predict(features_ireland)\n",
    "\n",
    "total_correct = 0\n",
    "\n",
    "for i in range(len(prediction)):\n",
    "    if ireland_prediction[i] == target_ireland.iloc[i]:\n",
    "        total_correct += 1\n",
    "\n",
    "print(f\"\"\"Linear regression prediction got {total_correct} right out of {len(y_test)}\n",
    "for an accuracy of {round(((total_correct/len(y_test)) * 100),2)}%\"\"\")\n",
    "\n",
    "# Okay, this one did terrible too\n"
   ]
  },
  {
   "cell_type": "code",
   "execution_count": 74,
   "metadata": {},
   "outputs": [
    {
     "name": "stdout",
     "output_type": "stream",
     "text": [
      "The Titanic scored an accuracy of: 84.35%\n",
      "The Empress of Ireland scored an accuracy of: 44.75%\n",
      "The Estonia scored an accuracy of: 42.47%\n"
     ]
    }
   ],
   "source": [
    "titanic_categorical.dropna(inplace=True)\n",
    "ireland_categorical.dropna(inplace=True)\n",
    "estonia_categorical.dropna(inplace=True)\n",
    "\n",
    "\n",
    "target_titanic = titanic_categorical[\"Survived\"]\n",
    "features_titanic = titanic_categorical[[\"Age\", \"Sex_female\",\"Sex_male\"]]\n",
    "\n",
    "target_ireland = ireland_categorical[\"Survived\"]\n",
    "features_ireland = ireland_categorical[[\"Age\", \"Sex_female\",\"Sex_male\"]]\n",
    "\n",
    "target_estonia = estonia_categorical[\"Survived\"]\n",
    "features_estonia = estonia_categorical[[\"Age\", \"Sex_female\",\"Sex_male\"]]\n",
    "\n",
    "X_train, X_test, y_train, y_test = train_test_split(features_titanic, target_titanic, random_state=0)\n",
    "\n",
    "clf = LogisticRegression(random_state=0)\n",
    "\n",
    "clf.fit(X_train, y_train)\n",
    "\n",
    "def clf_prediction(features, target):\n",
    "    prediction = clf.predict(features)\n",
    "\n",
    "    total_correct = 0\n",
    "\n",
    "    for i in range(len(prediction)):\n",
    "        if prediction[i] == target.iloc[i]:\n",
    "            total_correct += 1\n",
    "\n",
    "    accuracy = total_correct/len(target)\n",
    "    return accuracy\n",
    "\n",
    "print(f\"The Titanic scored an accuracy of: {round((clf_prediction(X_test, y_test)*100),2)}%\")\n",
    "print(f\"The Empress of Ireland scored an accuracy of: {round((clf_prediction(features_ireland,target_ireland)*100),2)}%\")\n",
    "print(f\"The Estonia scored an accuracy of: {round((clf_prediction(features_estonia, target_estonia)*100),2)}%\")\n",
    "\n",
    "# Conclusion: Logistic regression based on the Titanic does a poor job of predicting survivors of other disasters"
   ]
  },
  {
   "cell_type": "code",
   "execution_count": 80,
   "metadata": {},
   "outputs": [
    {
     "name": "stdout",
     "output_type": "stream",
     "text": [
      "The Titanic scored an accuracy of: 84.35%\n",
      "The Empress of Ireland scored an accuracy of: 44.87%\n"
     ]
    }
   ],
   "source": [
    "# Random forest model\n",
    "\n",
    "# We have to redefine the target and features do we can get the Pclass columns back (and leaving out the Estonia for now)\n",
    "\n",
    "target_titanic = titanic_categorical[\"Survived\"]\n",
    "features_titanic = titanic_categorical.drop([\"Survived\"], axis=1)\n",
    "\n",
    "target_ireland = ireland_categorical[\"Survived\"]\n",
    "features_ireland = ireland_categorical.drop([\"Survived\"], axis=1)\n",
    "\n",
    "from sklearn.ensemble import RandomForestClassifier\n",
    "\n",
    "X_train, X_test, y_train, y_test = train_test_split(features_titanic, target_titanic, random_state=0)\n",
    "\n",
    "clf = RandomForestClassifier(max_depth=2, random_state=0)\n",
    "\n",
    "clf.fit(X_train, y_train)\n",
    "\n",
    "print(f\"The Titanic scored an accuracy of: {round((clf_prediction(X_test, y_test)*100),2)}%\")\n",
    "print(f\"The Empress of Ireland scored an accuracy of: {round((clf_prediction(features_ireland,target_ireland)*100),2)}%\")\n",
    "\n",
    "# Random forest got the pretty much the same result as logistic regression"
   ]
  },
  {
   "cell_type": "code",
   "execution_count": 81,
   "metadata": {},
   "outputs": [
    {
     "name": "stdout",
     "output_type": "stream",
     "text": [
      "The Titanic scored an accuracy of: 84.35%\n",
      "The Empress of Ireland scored an accuracy of: 44.75%\n",
      "The Estonia scored an accuracy of: 42.47%\n"
     ]
    }
   ],
   "source": [
    "target_titanic = titanic_categorical[\"Survived\"]\n",
    "features_titanic = titanic_categorical[[\"Age\", \"Sex_female\",\"Sex_male\"]]\n",
    "\n",
    "target_ireland = ireland_categorical[\"Survived\"]\n",
    "features_ireland = ireland_categorical[[\"Age\", \"Sex_female\",\"Sex_male\"]]\n",
    "\n",
    "target_estonia = estonia_categorical[\"Survived\"]\n",
    "features_estonia = estonia_categorical[[\"Age\", \"Sex_female\",\"Sex_male\"]]\n",
    "\n",
    "X_train, X_test, y_train, y_test = train_test_split(features_titanic, target_titanic, random_state=0)\n",
    "\n",
    "clf = LogisticRegression(random_state=0)\n",
    "\n",
    "clf.fit(X_train, y_train)\n",
    "\n",
    "print(f\"The Titanic scored an accuracy of: {round((clf_prediction(X_test, y_test)*100),2)}%\")\n",
    "print(f\"The Empress of Ireland scored an accuracy of: {round((clf_prediction(features_ireland,target_ireland)*100),2)}%\")\n",
    "print(f\"The Estonia scored an accuracy of: {round((clf_prediction(features_estonia, target_estonia)*100),2)}%\")\n",
    "\n",
    "# Conclusion: Random Forest classification based on the Titanic does a poor job of predicting survivors of other disasters\n",
    "\n",
    "# I might be important to note that I removed passenger class and the classifier for both random forest and logistic regression got similar accuracy\n",
    "# maybe class isn't as important to survivability as we think?"
   ]
  },
  {
   "cell_type": "code",
   "execution_count": 86,
   "metadata": {},
   "outputs": [
    {
     "name": "stdout",
     "output_type": "stream",
     "text": [
      "Model: \"sequential_4\"\n",
      "_________________________________________________________________\n",
      "Layer (type)                 Output Shape              Param #   \n",
      "=================================================================\n",
      "dense_8 (Dense)              (None, 5)                 35        \n",
      "_________________________________________________________________\n",
      "dense_9 (Dense)              (None, 10)                60        \n",
      "_________________________________________________________________\n",
      "dense_10 (Dense)             (None, 1)                 11        \n",
      "=================================================================\n",
      "Total params: 106\n",
      "Trainable params: 106\n",
      "Non-trainable params: 0\n",
      "_________________________________________________________________\n"
     ]
    }
   ],
   "source": [
    "# Now lets try neural nets\n",
    "\n",
    "import tensorflow as tf\n",
    "\n",
    "nn=tf.keras.models.Sequential()\n",
    "nn.add(tf.keras.layers.Dense(units=5, activation=\"relu\", input_dim=6))\n",
    "nn.add(tf.keras.layers.Dense(units=10, activation=\"relu\"))\n",
    "nn.add(tf.keras.layers.Dense(units=1, activation=\"sigmoid\"))\n",
    "\n",
    "nn.summary()\n",
    "nn.compile(loss=\"binary_crossentropy\", optimizer=\"adam\", metrics=[\"accuracy\"])"
   ]
  },
  {
   "cell_type": "code",
   "execution_count": 91,
   "metadata": {},
   "outputs": [
    {
     "name": "stdout",
     "output_type": "stream",
     "text": [
      "Epoch 1/20\n",
      "25/25 [==============================] - 0s 1ms/step - loss: 0.3517 - accuracy: 0.8584\n",
      "Epoch 2/20\n",
      "25/25 [==============================] - 0s 1ms/step - loss: 0.3530 - accuracy: 0.8622\n",
      "Epoch 3/20\n",
      "25/25 [==============================] - 0s 875us/step - loss: 0.3528 - accuracy: 0.8622\n",
      "Epoch 4/20\n",
      "25/25 [==============================] - 0s 879us/step - loss: 0.3522 - accuracy: 0.8571\n",
      "Epoch 5/20\n",
      "25/25 [==============================] - 0s 956us/step - loss: 0.3510 - accuracy: 0.8597\n",
      "Epoch 6/20\n",
      "25/25 [==============================] - 0s 1ms/step - loss: 0.3509 - accuracy: 0.8584\n",
      "Epoch 7/20\n",
      "25/25 [==============================] - 0s 2ms/step - loss: 0.3511 - accuracy: 0.8597\n",
      "Epoch 8/20\n",
      "25/25 [==============================] - 0s 2ms/step - loss: 0.3516 - accuracy: 0.8610\n",
      "Epoch 9/20\n",
      "25/25 [==============================] - 0s 933us/step - loss: 0.3518 - accuracy: 0.8597\n",
      "Epoch 10/20\n",
      "25/25 [==============================] - 0s 965us/step - loss: 0.3519 - accuracy: 0.8661\n",
      "Epoch 11/20\n",
      "25/25 [==============================] - 0s 792us/step - loss: 0.3505 - accuracy: 0.8597\n",
      "Epoch 12/20\n",
      "25/25 [==============================] - 0s 875us/step - loss: 0.3507 - accuracy: 0.8597\n",
      "Epoch 13/20\n",
      "25/25 [==============================] - 0s 843us/step - loss: 0.3518 - accuracy: 0.8635\n",
      "Epoch 14/20\n",
      "25/25 [==============================] - 0s 791us/step - loss: 0.3509 - accuracy: 0.8584\n",
      "Epoch 15/20\n",
      "25/25 [==============================] - 0s 844us/step - loss: 0.3512 - accuracy: 0.8584\n",
      "Epoch 16/20\n",
      "25/25 [==============================] - 0s 750us/step - loss: 0.3525 - accuracy: 0.8597\n",
      "Epoch 17/20\n",
      "25/25 [==============================] - 0s 833us/step - loss: 0.3507 - accuracy: 0.8622\n",
      "Epoch 18/20\n",
      "25/25 [==============================] - 0s 833us/step - loss: 0.3512 - accuracy: 0.8597\n",
      "Epoch 19/20\n",
      "25/25 [==============================] - 0s 834us/step - loss: 0.3505 - accuracy: 0.8584\n",
      "Epoch 20/20\n",
      "25/25 [==============================] - 0s 849us/step - loss: 0.3499 - accuracy: 0.8584\n",
      "9/9 - 0s - loss: 0.3578 - accuracy: 0.8511\n",
      "Titanic: Loss: 0.357801228761673, Accuracy: 0.8511450290679932\n",
      "26/26 - 0s - loss: 1.2645 - accuracy: 0.4438\n",
      "Empress of Ireland: Loss: 1.2645217180252075, Accuracy: 0.44375771284103394\n"
     ]
    }
   ],
   "source": [
    "target_titanic = titanic_categorical[\"Survived\"]\n",
    "features_titanic = titanic_categorical.drop([\"Survived\"], axis=1)\n",
    "\n",
    "target_ireland = ireland_categorical[\"Survived\"]\n",
    "features_ireland = ireland_categorical.drop([\"Survived\"], axis=1)\n",
    "\n",
    "X_train, X_test, y_train, y_test = train_test_split(features_titanic, target_titanic, random_state=0)\n",
    "\n",
    "fit_model = nn.fit(X_train, y_train, epochs=20)\n",
    "\n",
    "titanic_model_loss, titanic_model_accuracy = nn.evaluate(X_test,y_test,verbose=2)\n",
    "print(f\"Titanic: Loss: {titanic_model_loss}, Accuracy: {titanic_model_accuracy}\")\n",
    "\n",
    "ireland_model_loss, ireland_model_accuracy = nn.evaluate(features_ireland, target_ireland,verbose=2)\n",
    "print(f\"Empress of Ireland: Loss: {ireland_model_loss}, Accuracy: {ireland_model_accuracy}\")"
   ]
  },
  {
   "cell_type": "code",
   "execution_count": 94,
   "metadata": {},
   "outputs": [
    {
     "name": "stdout",
     "output_type": "stream",
     "text": [
      "INFO:tensorflow:Reloading Oracle from existing project .\\untitled_project\\oracle.json\n",
      "INFO:tensorflow:Reloading Tuner from .\\untitled_project\\tuner0.json\n",
      "INFO:tensorflow:Oracle triggered exit\n",
      "9/9 - 0s - loss: 0.4250 - accuracy: 0.8511\n",
      "Titanic: Loss: 0.4249940514564514, Accuracy: 0.8511450290679932\n",
      "26/26 - 0s - loss: 0.8027 - accuracy: 0.4351\n",
      "Empress of Ireland: Loss: 0.8027485013008118, Accuracy: 0.4351050555706024\n"
     ]
    }
   ],
   "source": [
    "import keras_tuner\n",
    "from tensorflow import keras\n",
    "\n",
    "def create_model(hp):\n",
    "    nn_model = tf.keras.models.Sequential()\n",
    "\n",
    "    # Allow kerastuner to decide which activation function to use in hidden layers\n",
    "    activation = hp.Choice('activation',['relu','tanh','sigmoid'])\n",
    "    \n",
    "    # Allow kerastuner to decide number of neurons in first layer\n",
    "    nn_model.add(tf.keras.layers.Dense(\n",
    "        units=hp.Int('first_units',\n",
    "            min_value=1,\n",
    "            max_value=80,\n",
    "            step=2\n",
    "        ),\n",
    "        activation=activation,\n",
    "        input_dim=6\n",
    "        ))\n",
    "\n",
    "    # Allow kerastuner to decide number of hidden layers and neurons in hidden layers\n",
    "    for i in range(hp.Int('num_layers', 1, 6)):\n",
    "        nn_model.add(tf.keras.layers.Dense(\n",
    "            units=hp.Int('units_' + str(i),\n",
    "                min_value=1,\n",
    "                max_value=80,\n",
    "                step=2),\n",
    "            activation=activation))\n",
    "    \n",
    "    nn_model.add(tf.keras.layers.Dense(units=1, activation=\"sigmoid\"))\n",
    "\n",
    "    # Compile the model\n",
    "    nn_model.compile(loss=\"binary_crossentropy\", optimizer='adam', metrics=[\"accuracy\"])\n",
    "    \n",
    "    return nn_model\n",
    "\n",
    "tuner = keras_tuner.RandomSearch(\n",
    "    create_model,\n",
    "    objective=\"val_accuracy\",\n",
    "    max_trials=5)\n",
    "\n",
    "tuner.search(X_train, y_train, epochs=20, validation_data=(X_test, y_test))\n",
    "\n",
    "\n",
    "best_model = tuner.get_best_models(1)[0]\n",
    "titanic_model_loss, titanic_model_accuracy = best_model.evaluate(X_test,y_test,verbose=2)\n",
    "print(f\"Titanic: Loss: {titanic_model_loss}, Accuracy: {titanic_model_accuracy}\")\n",
    "\n",
    "ireland_model_loss, ireland_model_accuracy = best_model.evaluate(features_ireland, target_ireland,verbose=2)\n",
    "print(f\"Empress of Ireland: Loss: {ireland_model_loss}, Accuracy: {ireland_model_accuracy}\")\n",
    "\n",
    "best_model.save_weights(\"titanic_nn_model.hdf5\")"
   ]
  },
  {
   "cell_type": "code",
   "execution_count": 95,
   "metadata": {},
   "outputs": [
    {
     "data": {
      "text/plain": [
       "{'activation': 'relu',\n",
       " 'first_units': 37,\n",
       " 'num_layers': 3,\n",
       " 'units_0': 43,\n",
       " 'units_1': 37,\n",
       " 'units_2': 33,\n",
       " 'units_3': 31}"
      ]
     },
     "execution_count": 95,
     "metadata": {},
     "output_type": "execute_result"
    }
   ],
   "source": [
    "best_hyper = tuner.get_best_hyperparameters(1)[0]\n",
    "best_hyper.values"
   ]
  }
 ],
 "metadata": {
  "kernelspec": {
   "display_name": "Python 3.6.10 ('PythonData')",
   "language": "python",
   "name": "python3"
  },
  "language_info": {
   "codemirror_mode": {
    "name": "ipython",
    "version": 3
   },
   "file_extension": ".py",
   "mimetype": "text/x-python",
   "name": "python",
   "nbconvert_exporter": "python",
   "pygments_lexer": "ipython3",
   "version": "3.6.10"
  },
  "vscode": {
   "interpreter": {
    "hash": "1513f9e588a8772f13f9ee80de81385398d776b27d3547ef2dab087ab18b496b"
   }
  }
 },
 "nbformat": 4,
 "nbformat_minor": 2
}
